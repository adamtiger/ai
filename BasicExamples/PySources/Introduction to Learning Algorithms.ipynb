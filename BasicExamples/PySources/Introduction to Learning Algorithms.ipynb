{
 "cells": [
  {
   "cell_type": "markdown",
   "metadata": {},
   "source": [
    "# Getting started with Learning Algorithms"
   ]
  },
  {
   "cell_type": "markdown",
   "metadata": {},
   "source": [
    "Import the necessary packages"
   ]
  },
  {
   "cell_type": "code",
   "execution_count": 1,
   "metadata": {
    "collapsed": true
   },
   "outputs": [],
   "source": [
    "import os\n",
    "import ctypes\n",
    "from numpy.ctypeslib import ndpointer"
   ]
  },
  {
   "cell_type": "markdown",
   "metadata": {},
   "source": [
    "Extract the zip file which contains the dll"
   ]
  },
  {
   "cell_type": "code",
   "execution_count": 21,
   "metadata": {
    "collapsed": false
   },
   "outputs": [],
   "source": [
    "if not os.path.exists('ContainerProject.dll'):\n",
    "    from zipfile import ZipFile\n",
    "    with ZipFile('ContainerProject.zip') as myzip:\n",
    "        myzip.extractall()"
   ]
  },
  {
   "cell_type": "markdown",
   "metadata": {},
   "source": [
    "Load the dll"
   ]
  },
  {
   "cell_type": "code",
   "execution_count": 2,
   "metadata": {
    "collapsed": true
   },
   "outputs": [],
   "source": [
    "dll = ctypes.CDLL('ContainerProject.dll')"
   ]
  },
  {
   "cell_type": "markdown",
   "metadata": {},
   "source": [
    "## N armed bandits"
   ]
  },
  {
   "cell_type": "code",
   "execution_count": 3,
   "metadata": {
    "collapsed": false
   },
   "outputs": [
    {
     "name": "stdout",
     "output_type": "stream",
     "text": [
      "[  3.61442161   1.93693769   6.80763626   3.26991129   4.84944725\n",
      "  10.57111931  16.60503578   8.70622253  12.49580288  17.10609055]\n"
     ]
    }
   ],
   "source": [
    "dll.StationaryAnalysis.restype = ndpointer(dtype=ctypes.c_float, shape=(10,))\n",
    "\n",
    "res_stat = dll.StationaryAnalysis()\n",
    "\n",
    "print(res_stat)"
   ]
  },
  {
   "cell_type": "code",
   "execution_count": 3,
   "metadata": {
    "collapsed": false
   },
   "outputs": [
    {
     "name": "stdout",
     "output_type": "stream",
     "text": [
      "[ 22.82204819  41.16963577 -13.04352379  22.92483902   4.96866608\n",
      " -28.25188065  35.84920502  47.67514038  12.24644089  77.40335846]\n"
     ]
    }
   ],
   "source": [
    "dll.NonStationaryAnalysis.restype = ndpointer(dtype=ctypes.c_float, shape=(10,))\n",
    "\n",
    "res_non = dll.NonStationaryAnalysis()\n",
    "\n",
    "print(res_non)"
   ]
  },
  {
   "cell_type": "markdown",
   "metadata": {
    "collapsed": true
   },
   "source": [
    "## Q-learning"
   ]
  },
  {
   "cell_type": "code",
   "execution_count": 3,
   "metadata": {
    "collapsed": false
   },
   "outputs": [
    {
     "name": "stdout",
     "output_type": "stream",
     "text": [
      "[1001  398    9   19   12   11    9    9    9   16    9    9]\n"
     ]
    }
   ],
   "source": [
    "dll.SolveWindyGridWorld.restype = ndpointer(dtype=ctypes.c_int, shape=(12,))\n",
    "episode_lengths = dll.SolveWindyGridWorld()\n",
    "print(episode_lengths)"
   ]
  },
  {
   "cell_type": "markdown",
   "metadata": {},
   "source": [
    "## The Mountain car problem"
   ]
  },
  {
   "cell_type": "code",
   "execution_count": 5,
   "metadata": {
    "collapsed": false
   },
   "outputs": [
    {
     "data": {
      "text/plain": [
       "1"
      ]
     },
     "execution_count": 5,
     "metadata": {},
     "output_type": "execute_result"
    }
   ],
   "source": [
    "dll.SolveMountainCar()"
   ]
  },
  {
   "cell_type": "code",
   "execution_count": null,
   "metadata": {
    "collapsed": true
   },
   "outputs": [],
   "source": []
  }
 ],
 "metadata": {
  "kernelspec": {
   "display_name": "Python 3",
   "language": "python",
   "name": "python3"
  },
  "language_info": {
   "codemirror_mode": {
    "name": "ipython",
    "version": 3
   },
   "file_extension": ".py",
   "mimetype": "text/x-python",
   "name": "python",
   "nbconvert_exporter": "python",
   "pygments_lexer": "ipython3",
   "version": "3.6.0"
  }
 },
 "nbformat": 4,
 "nbformat_minor": 2
}
