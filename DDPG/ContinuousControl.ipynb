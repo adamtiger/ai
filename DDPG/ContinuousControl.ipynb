{
 "cells": [
  {
   "cell_type": "markdown",
   "metadata": {},
   "source": [
    "# Continuous control with Deep Reinforcement Learning"
   ]
  },
  {
   "cell_type": "markdown",
   "metadata": {},
   "source": [
    "This notebook provides an implementation and a simple test of the following article:\n",
    "\n",
    "Lillicrap et. al., *Continuous control with Deep Reinforcement Learning*, 2016\n",
    "\n",
    "The test is executed on the Pendulum problem."
   ]
  },
  {
   "cell_type": "code",
   "execution_count": 1,
   "metadata": {
    "collapsed": true
   },
   "outputs": [],
   "source": [
    "import numpy as np\n",
    "import gym\n",
    "import tensorflow as tf"
   ]
  },
  {
   "cell_type": "markdown",
   "metadata": {},
   "source": [
    "### Experience replay"
   ]
  },
  {
   "cell_type": "code",
   "execution_count": 8,
   "metadata": {
    "collapsed": true
   },
   "outputs": [],
   "source": [
    "class ExperienceReplay: # Handles the expereiences (state, action, reward, next state)\n",
    "    \n",
    "    def __init__(self, size):\n",
    "        self.size = size\n",
    "        self.queue = [0] * size\n",
    "        \n",
    "    def append(self, experience_list):\n",
    "        app_size = len(experience_list)\n",
    "        \n",
    "        for idx in range(app_size):\n",
    "            self.queue.remove(0)\n",
    "            self.queue.append(experience_list[idx])\n",
    "    \n",
    "    def get_random_batch(self, number):\n",
    "        indicies = np.random.randint(0, self.size, number)\n",
    "        \n",
    "        rand_batch = []\n",
    "        for idx in indicies:\n",
    "            rand_batch.append(self.queue[idx])\n",
    "        \n",
    "        return rand_batch"
   ]
  },
  {
   "cell_type": "markdown",
   "metadata": {},
   "source": [
    "### Noise"
   ]
  },
  {
   "cell_type": "code",
   "execution_count": null,
   "metadata": {},
   "outputs": [],
   "source": [
    "def noise(action, low, high):\n",
    "    \n",
    "    sigma = 0.5\n",
    "    action = action + sigma * np.random.randn(1) # generates a value from standard normal disrt.\n",
    "    if action < low:\n",
    "        return low\n",
    "    elif action > high:\n",
    "        return high\n",
    "    else:\n",
    "        return action"
   ]
  },
  {
   "cell_type": "markdown",
   "metadata": {},
   "source": [
    "### Actor"
   ]
  },
  {
   "cell_type": "code",
   "execution_count": null,
   "metadata": {},
   "outputs": [],
   "source": [
    "class Actor:\n",
    "    \n",
    "    "
   ]
  },
  {
   "cell_type": "markdown",
   "metadata": {},
   "source": [
    "### The actor-critic algorithm"
   ]
  },
  {
   "cell_type": "code",
   "execution_count": null,
   "metadata": {},
   "outputs": [],
   "source": [
    "# Initialization\n",
    "replay = ExperienceReplay(100)\n",
    "critic = Critic()\n",
    "actor = Actor()\n",
    "env = gym.make('Pendulum-v0').reset()\n",
    "M = 100\n",
    "N = 32\n",
    "\n",
    "for _ in range(M):\n",
    "    \n",
    "    done = False\n",
    "    state = env.render(mode='rgb_array', close=False)\n",
    "    \n",
    "    while not done:\n",
    "        action = noise(actor.action(state), env.action_space.low, env.action_space.high)\n",
    "        _, reward, done, _ = env.step(action)\n",
    "        state_new = env.render(mode='rgb_array', close=False)\n",
    "        replay.append([(state, action, reward, state_new)])\n",
    "        state = state_new \n",
    "        samples = replay.get_random_batch(N)\n",
    "        critic.update(actor, samples)\n",
    "        actor.update(critic, samples)\n",
    "        critic.soft_target_update()\n",
    "        actor.soft_target_update()"
   ]
  }
 ],
 "metadata": {
  "anaconda-cloud": {},
  "kernelspec": {
   "display_name": "Python 3",
   "language": "python",
   "name": "python3"
  },
  "language_info": {
   "codemirror_mode": {
    "name": "ipython",
    "version": 3
   },
   "file_extension": ".py",
   "mimetype": "text/x-python",
   "name": "python",
   "nbconvert_exporter": "python",
   "pygments_lexer": "ipython3",
   "version": "3.5.2"
  }
 },
 "nbformat": 4,
 "nbformat_minor": 1
}
