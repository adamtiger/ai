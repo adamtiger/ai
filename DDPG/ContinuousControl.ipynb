{
 "cells": [
  {
   "cell_type": "markdown",
   "metadata": {},
   "source": [
    "# Continuous control with Deep Reinforcement Learning"
   ]
  },
  {
   "cell_type": "markdown",
   "metadata": {},
   "source": [
    "This notebook provides an implementation and a simple test of the following article:\n",
    "\n",
    "Lillicrap et. al., *Continuous control with Deep Reinforcement Learning*, 2016\n",
    "\n",
    "The test is executed on the CartPole, (...) problems."
   ]
  },
  {
   "cell_type": "code",
   "execution_count": 1,
   "metadata": {
    "collapsed": true
   },
   "outputs": [],
   "source": [
    "import numpy as np"
   ]
  },
  {
   "cell_type": "code",
   "execution_count": 8,
   "metadata": {
    "collapsed": true
   },
   "outputs": [],
   "source": [
    "class ExperienceReplay: # Handles the expereiences (state, action, reward, next state)\n",
    "    \n",
    "    def __init__(self, size):\n",
    "        self.size = size\n",
    "        self.queue = [0] * size\n",
    "        \n",
    "    def append(self, experience_list):\n",
    "        app_size = len(experience_list)\n",
    "        \n",
    "        for idx in range(app_size):\n",
    "            self.queue.remove(0)\n",
    "            self.queue.append(experience_list[idx])\n",
    "    \n",
    "    def get_random_batch(self, number):\n",
    "        indicies = np.random.randint(0, self.size, number)\n",
    "        \n",
    "        rand_batch = []\n",
    "        for idx in indicies:\n",
    "            rand_batch.append(self.queue[idx])\n",
    "        \n",
    "        return rand_batch"
   ]
  },
  {
   "cell_type": "code",
   "execution_count": null,
   "metadata": {
    "collapsed": false
   },
   "outputs": [],
   "source": []
  },
  {
   "cell_type": "code",
   "execution_count": null,
   "metadata": {
    "collapsed": true
   },
   "outputs": [],
   "source": []
  }
 ],
 "metadata": {
  "anaconda-cloud": {},
  "kernelspec": {
   "display_name": "Python [Root]",
   "language": "python",
   "name": "Python [Root]"
  },
  "language_info": {
   "codemirror_mode": {
    "name": "ipython",
    "version": 3
   },
   "file_extension": ".py",
   "mimetype": "text/x-python",
   "name": "python",
   "nbconvert_exporter": "python",
   "pygments_lexer": "ipython3",
   "version": "3.5.2"
  }
 },
 "nbformat": 4,
 "nbformat_minor": 0
}
