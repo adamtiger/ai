{
 "cells": [
  {
   "cell_type": "markdown",
   "metadata": {},
   "source": [
    "# QR iteration"
   ]
  },
  {
   "cell_type": "markdown",
   "metadata": {},
   "source": [
    "The QR iteration and Hessenberg transformation will be investigated on a simple matrix."
   ]
  },
  {
   "cell_type": "markdown",
   "metadata": {},
   "source": [
    ".2....95.-38..18..5  \n",
    ".1....47.-19....8..1  \n",
    ".2..151.-69..28..4  \n",
    "-1..218.-88..34..6  \n",
    ".0.-208..84.-34.-5"
   ]
  },
  {
   "cell_type": "code",
   "execution_count": 1,
   "metadata": {
    "collapsed": true
   },
   "outputs": [],
   "source": [
    "%matplotlib inline\n",
    "import numpy as np\n",
    "import matplotlib.pyplot as plt\n",
    "import math as m"
   ]
  },
  {
   "cell_type": "markdown",
   "metadata": {},
   "source": [
    "### Creating the matrix"
   ]
  },
  {
   "cell_type": "code",
   "execution_count": 2,
   "metadata": {
    "collapsed": true
   },
   "outputs": [],
   "source": [
    "data = [2, 95, -38, 18, 5, 1, 47, -19, 8, 1, 2, 151, -69, 28, 4, -1, 218, -88, 34, 6, 0, -208, 84, -34, -5]"
   ]
  },
  {
   "cell_type": "code",
   "execution_count": 3,
   "metadata": {
    "collapsed": false
   },
   "outputs": [
    {
     "name": "stdout",
     "output_type": "stream",
     "text": [
      "[[   2   95  -38   18    5]\n",
      " [   1   47  -19    8    1]\n",
      " [   2  151  -69   28    4]\n",
      " [  -1  218  -88   34    6]\n",
      " [   0 -208   84  -34   -5]]\n"
     ]
    }
   ],
   "source": [
    "task = np.array(data).reshape((5, 5))\n",
    "print (task)"
   ]
  },
  {
   "cell_type": "markdown",
   "metadata": {
    "collapsed": false
   },
   "source": [
    "## QR Iteration - Implementation"
   ]
  },
  {
   "cell_type": "markdown",
   "metadata": {},
   "source": [
    "The $S_{ij}$ matrix which can make an element zero is sparse. Therefore it is represented by a special structure:"
   ]
  },
  {
   "cell_type": "code",
   "execution_count": 4,
   "metadata": {
    "collapsed": true
   },
   "outputs": [],
   "source": [
    "class S:\n",
    "    \n",
    "    def __init__(self, i, j, tan = 0):\n",
    "        self.i = i\n",
    "        self.j = j\n",
    "        self.sin = self.__to_sin(tan)\n",
    "        self.cos = self.__to_cos(tan)\n",
    "        \n",
    "    def __to_sin(self, tan):\n",
    "        return tan / m.sqrt(1.0 + tan * tan)\n",
    "    \n",
    "    def __to_cos(self, tan):\n",
    "        return 1.0 / m.sqrt(1.0 + tan * tan)\n",
    "    \n",
    "    def infinity_tan(self):\n",
    "        self.sin = 1.0\n",
    "        self.cos = 0.0"
   ]
  },
  {
   "cell_type": "markdown",
   "metadata": {},
   "source": [
    "The $S_{ij}$ means the $i^{th}$ element in the $j^{th}$ column will be zero in matrix **A**. This multiplication should exhaust the fact that $S_{ij}$ is sparse."
   ]
  },
  {
   "cell_type": "code",
   "execution_count": 5,
   "metadata": {
    "collapsed": true
   },
   "outputs": [],
   "source": [
    "def sij_dot_A(s_ij, A): # A should be a numpy matrix\n",
    "    for idx in range(0, A.shape[1]):\n",
    "        temp = A[s_ij.j, idx] * s_ij.cos + A[s_ij.i, idx] * s_ij.sin\n",
    "        A[s_ij.i, idx] = A[s_ij.i, idx] * s_ij.cos - A[s_ij.j, idx] * s_ij.sin\n",
    "        A[s_ij.j, idx] = temp "
   ]
  },
  {
   "cell_type": "markdown",
   "metadata": {},
   "source": [
    "After eliminating all the zeros under the diagonal the transpose of S-s are applied from the right to get the new A."
   ]
  },
  {
   "cell_type": "code",
   "execution_count": 6,
   "metadata": {
    "collapsed": true
   },
   "outputs": [],
   "source": [
    "def A_dot_transpose_sij(A, s_ij):\n",
    "    for idx in range(0, A.shape[0]):\n",
    "        temp = A[idx, s_ij.j] * s_ij.cos + A[idx, s_ij.i] * s_ij.sin\n",
    "        A[idx, s_ij.i] = A[idx, s_ij.i] * s_ij.cos - A[idx, s_ij.j] * s_ij.sin\n",
    "        A[idx, s_ij.j] = temp"
   ]
  },
  {
   "cell_type": "markdown",
   "metadata": {
    "collapsed": true
   },
   "source": [
    "The actual S for the current state of the A at i, j:"
   ]
  },
  {
   "cell_type": "code",
   "execution_count": 7,
   "metadata": {
    "collapsed": true
   },
   "outputs": [],
   "source": [
    "def next_s(A, i, j, tolerance=1e-10):\n",
    "    if abs(A[j, j]) < tolerance:\n",
    "        s = S(i, j)\n",
    "        s.infinity_tan()\n",
    "        return s\n",
    "    else:\n",
    "        tan = A[i, j] / A[j, j]\n",
    "        return S(i, j, tan)"
   ]
  },
  {
   "cell_type": "markdown",
   "metadata": {},
   "source": [
    "The eigenvalues are given as the diagonal elements in the A after sufficient number of QR iteration. A function for accessing the diagonal elements:"
   ]
  },
  {
   "cell_type": "code",
   "execution_count": 8,
   "metadata": {
    "collapsed": true
   },
   "outputs": [],
   "source": [
    "def diagonals(A):\n",
    "    eis = []\n",
    "    for idx in range(0, A.shape[0]):\n",
    "        eis.append(A[idx, idx])\n",
    "        \n",
    "    return eis"
   ]
  },
  {
   "cell_type": "markdown",
   "metadata": {},
   "source": [
    "Then one step in the QR iteration ($A(k+1) = Q^T \\cdot A(k) \\cdot Q$) can be implemented in the following way:"
   ]
  },
  {
   "cell_type": "code",
   "execution_count": 9,
   "metadata": {
    "collapsed": true
   },
   "outputs": [],
   "source": [
    "def qr_one_step(A):\n",
    "    s_list = []\n",
    "    for j in range(0, A.shape[1]): # multiplications from left, erasing zeros in the j. column \n",
    "        for i in range(A.shape[0] - 1, j, -1):\n",
    "            s_temp = next_s(A, i, j)\n",
    "            sij_dot_A(s_temp, A)\n",
    "            s_list.append(s_temp)\n",
    "    \n",
    "    for s in s_list: # multiplying from right, the order is good due to append\n",
    "        A_dot_transpose_sij(A, s)"
   ]
  },
  {
   "cell_type": "markdown",
   "metadata": {},
   "source": [
    "Then the QR iteration is given as follows:"
   ]
  },
  {
   "cell_type": "code",
   "execution_count": 10,
   "metadata": {
    "collapsed": true
   },
   "outputs": [],
   "source": [
    "def qr(A, iter_num = 5, callback = None, shift = False): # shift: True shifting is applied\n",
    "    \n",
    "    # helper for calculating the error\n",
    "    def sum_sq():\n",
    "        loss = 0.0\n",
    "        for x in diagonals(A):\n",
    "            loss += x * x\n",
    "        return loss\n",
    "    \n",
    "    ei_sum_0 = sum_sq()\n",
    "    \n",
    "    for it in range(iter_num):\n",
    "        \n",
    "        if shift:\n",
    "            DeltaA = A[-1, -1] * np.identity(A.shape[0])\n",
    "            A -= DeltaA\n",
    "            qr_one_step(A)\n",
    "            A += DeltaA\n",
    "        else:\n",
    "            qr_one_step(A)\n",
    "        \n",
    "        # error calculation and administration\n",
    "        ei_sum_1 = sum_sq()\n",
    "        error = ei_sum_1 - ei_sum_0\n",
    "        \n",
    "        if not (callback is None):\n",
    "            callback(error)\n",
    "            \n",
    "        ei_sum_0 = ei_sum_1"
   ]
  },
  {
   "cell_type": "markdown",
   "metadata": {},
   "source": [
    "#### Test for the current functions"
   ]
  },
  {
   "cell_type": "code",
   "execution_count": 11,
   "metadata": {
    "collapsed": false
   },
   "outputs": [
    {
     "name": "stdout",
     "output_type": "stream",
     "text": [
      "The matrix: \n",
      " [[ 1. -1.  0.  0.]\n",
      " [-1.  1. -1.  0.]\n",
      " [ 0. -1.  2.  0.]\n",
      " [ 0.  0.  0.  3.]]\n",
      "\n",
      " --- Built-in ---\n",
      "[-0.2469796   1.44504187  2.80193774  3.        ]\n",
      "\n",
      " --- QR ITERATION ---\n",
      "[[  2.80193774e+00   5.40237406e-06  -1.58234952e-16   0.00000000e+00]\n",
      " [  5.40237406e-06   1.44504187e+00  -1.44730606e-15   0.00000000e+00]\n",
      " [ -2.97124760e-35  -1.37961794e-15  -2.46979604e-01   0.00000000e+00]\n",
      " [  0.00000000e+00   0.00000000e+00   0.00000000e+00   3.00000000e+00]]\n",
      "[2.8019377357833295, 1.445041867934139, -0.24697960371746711, 3.0]\n"
     ]
    }
   ],
   "source": [
    "#test = [6.0, 2.0, 1.0, 2.0, 4.0, 2.0, 1.0, 2.0, 1.0]\n",
    "test = [1.0, -1.0, 0.0, 0.0, -1.0, 1.0, -1.0, 0.0, 0.0, -1.0, 2.0, 0.0, 0.0, 0.0, 0.0, 3.0] # Example from the book\n",
    "mtx = np.array(test).reshape((4, 4))\n",
    "print(\"The matrix: \\n\", mtx)\n",
    "\n",
    "print(\"\\n --- Built-in ---\")\n",
    "print(np.linalg.eig(mtx)[0]) # uses _geev LAPACK routines (see references)\n",
    "\n",
    "print(\"\\n --- QR ITERATION ---\")\n",
    "qr(mtx, 20)\n",
    "print(mtx)\n",
    "print(diagonals(mtx))"
   ]
  },
  {
   "cell_type": "markdown",
   "metadata": {},
   "source": [
    "## Transformation to Hessenberg matrix - Imlementation"
   ]
  },
  {
   "cell_type": "markdown",
   "metadata": {},
   "source": [
    "The shape of the Hessenberg matrix remains invariant for the QR transformation. Therefore after a QR transformation the resulting matrix is also in Hessenberg form."
   ]
  },
  {
   "cell_type": "code",
   "execution_count": 12,
   "metadata": {
    "collapsed": false
   },
   "outputs": [],
   "source": [
    "def transform_Hessenberg(A):\n",
    "    # init F\n",
    "    F = np.zeros(A.shape) \n",
    "    for idx in range(1, A.shape[0]):\n",
    "        F[idx, idx - 1] = 1.0\n",
    "    \n",
    "    # init Z\n",
    "    Z = np.zeros(A.shape)\n",
    "    Z[0, 0] = 1.0\n",
    "    \n",
    "    # recursive formula: Fik = (A * Zk)_i - sum_j=1^i-1 {Fjk * Zij} / Z_ii\n",
    "    for k in range(1, A.shape[1] + 1):\n",
    "        Azk = np.matmul(A, Z[:, k - 1])\n",
    "        \n",
    "        for i in range(0, k):\n",
    "            temp = 0.0\n",
    "            for j in range(0, i):\n",
    "                temp += F[j, k - 1] * Z[i, j]\n",
    "            F[i, k - 1] = (Azk[i] - temp) / Z[i, i]\n",
    "        \n",
    "        if k < A.shape[1]: # to get the last row of F, but here Z[:, k] would be out of range\n",
    "            Z[:, k] = Azk[:]\n",
    "            for t in range(0, k):\n",
    "                Z[:, k] -= F[t, k - 1] * Z[:, t]\n",
    "    \n",
    "    return F, Z"
   ]
  },
  {
   "cell_type": "markdown",
   "metadata": {},
   "source": [
    "#### Test for Hessenberg transformation"
   ]
  },
  {
   "cell_type": "code",
   "execution_count": 13,
   "metadata": {
    "collapsed": false
   },
   "outputs": [
    {
     "name": "stdout",
     "output_type": "stream",
     "text": [
      "The matrix: \n",
      " [[ 1  1 -1  1]\n",
      " [ 1  2 -2  1]\n",
      " [ 2  1 -1  2]\n",
      " [ 3  2 -1  2]]\n",
      "F: \n",
      " [[ 1.  2.  0.  3.]\n",
      " [ 1.  1. -3.  3.]\n",
      " [ 0.  1.  3.  0.]\n",
      " [ 0.  0.  1. -1.]]\n",
      "Z: \n",
      " [[ 1.  0.  0.  0.]\n",
      " [ 0.  1.  0.  0.]\n",
      " [ 0.  2.  3.  0.]\n",
      " [ 0.  3.  3.  3.]]\n"
     ]
    }
   ],
   "source": [
    "test = [1, 1, -1, 1, 1, 2, -2, 1, 2, 1, -1, 2, 3, 2, -1, 2] # example from the book\n",
    "mtx = np.array(test).reshape((4, 4))\n",
    "print(\"The matrix: \\n\", mtx)\n",
    "\n",
    "F, Z = transform_Hessenberg(mtx)\n",
    "print(\"F: \\n\", F)\n",
    "print(\"Z: \\n\", Z)"
   ]
  },
  {
   "cell_type": "markdown",
   "metadata": {},
   "source": [
    "## Experiments with the given matrix"
   ]
  },
  {
   "cell_type": "markdown",
   "metadata": {},
   "source": [
    "The following subtasks will be investigated:\n",
    "1. QR iteration without Hessenberg (convergence speed, eigenvalues)\n",
    "2. QR iteration with Hesenberg (convergence speed, eigenvalues)\n",
    "3. Effect of shifting\n",
    "4. Applying Gauss-noise with different variance but zero mean. (Difference in lambda)"
   ]
  },
  {
   "cell_type": "code",
   "execution_count": 14,
   "metadata": {
    "collapsed": true
   },
   "outputs": [],
   "source": [
    "# Functions which will be used in the following tasks\n",
    "\n",
    "history = { \"it\": [], \"err\": []}\n",
    "def monitor_error(error):\n",
    "    history[\"err\"].append(error)\n",
    "    history[\"it\"].append(len(history[\"it\"]) + 1)\n",
    "    \n",
    "def show_graph(title):\n",
    "    plt.plot(history[\"it\"], history[\"err\"])\n",
    "\n",
    "    plt.xlabel('iteration')\n",
    "    plt.ylabel('error')\n",
    "    plt.title(title)\n",
    "    plt.show()\n",
    "\n",
    "def clear_history():\n",
    "    history[\"it\"].clear()\n",
    "    history[\"err\"].clear()"
   ]
  },
  {
   "cell_type": "markdown",
   "metadata": {},
   "source": [
    "### QR without Hessenberg"
   ]
  },
  {
   "cell_type": "code",
   "execution_count": 15,
   "metadata": {
    "collapsed": false
   },
   "outputs": [
    {
     "data": {
      "image/png": "[encoded data removed]",
      "text/plain": [
       "<matplotlib.figure.Figure at 0xfecf654d68>"
      ]
     },
     "metadata": {},
     "output_type": "display_data"
    },
    {
     "name": "stdout",
     "output_type": "stream",
     "text": [
      "QR solution:  [21, -8, 0, 0, 0]\n",
      "Reference solution:  [ 25.57771123+0.j        -12.31982385+0.j         -3.21680685+1.4877582j\n",
      "  -3.21680685-1.4877582j   2.17572632+0.j       ]\n"
     ]
    }
   ],
   "source": [
    "qr_mtx = np.copy(task)\n",
    "\n",
    "qr(qr_mtx, 100, callback = monitor_error)\n",
    "\n",
    "show_graph(\"QR without Hessenberg\")\n",
    "clear_history()\n",
    "\n",
    "print(\"QR solution: \", diagonals(qr_mtx))\n",
    "print(\"Reference solution: \", np.linalg.eig(task)[0])"
   ]
  },
  {
   "cell_type": "markdown",
   "metadata": {},
   "source": [
    "### QR with Hessenberg"
   ]
  },
  {
   "cell_type": "code",
   "execution_count": 16,
   "metadata": {
    "collapsed": false
   },
   "outputs": [
    {
     "data": {
      "image/png": "[encoded data removed]",
      "text/plain": [
       "<matplotlib.figure.Figure at 0xfecfa23128>"
      ]
     },
     "metadata": {},
     "output_type": "display_data"
    },
    {
     "name": "stdout",
     "output_type": "stream",
     "text": [
      "QR solution:  [25.577711226533314, -12.31982384870429, -3.0944995618683433, -3.3391141383989722, 2.1757263224383112]\n",
      "Reference solution:  [ 25.57771123+0.j        -12.31982385+0.j         -3.21680685+1.4877582j\n",
      "  -3.21680685-1.4877582j   2.17572632+0.j       ]\n"
     ]
    }
   ],
   "source": [
    "qr_mtx = np.copy(task)\n",
    "\n",
    "qr_f, _ = transform_Hessenberg(qr_mtx)\n",
    "qr(qr_f, 100, callback = monitor_error)\n",
    "\n",
    "show_graph(\"QR with Hessenberg\")\n",
    "clear_history()\n",
    "\n",
    "print(\"QR solution: \", diagonals(qr_f))\n",
    "print(\"Reference solution: \", np.linalg.eig(qr_mtx)[0])"
   ]
  },
  {
   "cell_type": "markdown",
   "metadata": {},
   "source": [
    "### Effect of shifting"
   ]
  },
  {
   "cell_type": "markdown",
   "metadata": {},
   "source": [
    "The shifting did not speed up the convergence here. May be the curve is not so noisy then above."
   ]
  },
  {
   "cell_type": "code",
   "execution_count": 17,
   "metadata": {
    "collapsed": false
   },
   "outputs": [
    {
     "data": {
      "image/png": "[encoded data removed]",
      "text/plain": [
       "<matplotlib.figure.Figure at 0xfecfd9d4e0>"
      ]
     },
     "metadata": {},
     "output_type": "display_data"
    },
    {
     "name": "stdout",
     "output_type": "stream",
     "text": [
      "QR solution:  [25.577711226533555, -12.319823848704678, -4.3116642159981016, -2.1219494842690216, 2.1757263224381762]\n",
      "Reference solution:  [ 25.57771123+0.j        -12.31982385+0.j         -3.21680685+1.4877582j\n",
      "  -3.21680685-1.4877582j   2.17572632+0.j       ]\n"
     ]
    }
   ],
   "source": [
    "qr_mtx = np.copy(task)\n",
    "\n",
    "qr_f, _ = transform_Hessenberg(qr_mtx)\n",
    "qr(qr_f, 90, callback = monitor_error, shift = True)\n",
    "\n",
    "show_graph(\"QR with Hessenberg\")\n",
    "clear_history()\n",
    "\n",
    "print(\"QR solution: \", diagonals(qr_f))\n",
    "print(\"Reference solution: \", np.linalg.eig(qr_mtx)[0])"
   ]
  },
  {
   "cell_type": "markdown",
   "metadata": {},
   "source": [
    "### Applying noise"
   ]
  },
  {
   "cell_type": "markdown",
   "metadata": {},
   "source": [
    "In this part only the QR with Hessenberg transformation is used due to the observation that the vanilla QR was not able to converge to the right eigenvalues. "
   ]
  },
  {
   "cell_type": "code",
   "execution_count": 18,
   "metadata": {
    "collapsed": false
   },
   "outputs": [
    {
     "name": "stdout",
     "output_type": "stream",
     "text": [
      "Original: \n",
      " [[   2   95  -38   18    5]\n",
      " [   1   47  -19    8    1]\n",
      " [   2  151  -69   28    4]\n",
      " [  -1  218  -88   34    6]\n",
      " [   0 -208   84  -34   -5]]\n",
      "Noise 1: \n",
      " [[   3.55133911   95.07918602  -37.82602347   17.92766343    2.9956706 ]\n",
      " [   1.14467781   45.49883138  -18.78889055    7.44179494    2.08452906]\n",
      " [   1.81371088  151.01466137  -70.07556947   28.64225207    3.81966329]\n",
      " [  -0.37969975  218.81097433  -87.22206413   33.76251032    4.10808765]\n",
      " [  -1.17212179 -207.16379303   85.0092734   -32.70690064   -5.54933117]]\n",
      "Noise 2: \n",
      " [[  -7.81712865  104.14672758  -29.26929622   18.22111142    4.95856416]\n",
      " [ -12.49126151   44.91782154   -5.73459715   -1.1626058    -3.70013146]\n",
      " [   0.50557479  147.74739883  -87.05723456   22.99629811   -1.64780646]\n",
      " [  -4.14428573  214.03322763  -87.94066888   24.02861754   22.91097584]\n",
      " [  -3.16440871 -193.34865579   98.63601335  -32.71088671  -16.78242861]]\n",
      "Noise 3: \n",
      " [[  1.78334908e+00   9.48478187e+01  -3.80292888e+01   1.80160488e+01\n",
      "    4.92171490e+00]\n",
      " [  9.48259779e-01   4.72696569e+01  -1.89724796e+01   7.87884075e+00\n",
      "    1.05872427e+00]\n",
      " [  1.90181635e+00   1.50756145e+02  -6.89863883e+01   2.79192412e+01\n",
      "    4.00200811e+00]\n",
      " [ -8.24013972e-01   2.18005290e+02  -8.80899810e+01   3.41588450e+01\n",
      "    5.78238384e+00]\n",
      " [ -1.21721545e-01  -2.07864553e+02   8.41477227e+01  -3.40326220e+01\n",
      "   -5.07838688e+00]]\n"
     ]
    }
   ],
   "source": [
    "np.random.seed(14)\n",
    "def noise(sigma): # standard normal distribution in the background\n",
    "    return np.random.randn(5, 5)/sigma\n",
    "\n",
    "# examples\n",
    "qr_mtx = np.copy(task)\n",
    "qr_noise1 = qr_mtx + noise(1) # medium noise\n",
    "qr_noise2 = qr_mtx + noise(0.1) # huge noise\n",
    "qr_noise3 = qr_mtx + noise(10) # small noise\n",
    "\n",
    "print(\"Original: \\n\", qr_mtx)\n",
    "print(\"Noise 1: \\n\", qr_noise1)\n",
    "print(\"Noise 2: \\n\", qr_noise2)\n",
    "print(\"Noise 3: \\n\", qr_noise3)"
   ]
  },
  {
   "cell_type": "markdown",
   "metadata": {},
   "source": [
    "##### First, the medium noise is applied. The result shows that the real eigenvalues are found with a good accuracy. "
   ]
  },
  {
   "cell_type": "code",
   "execution_count": 19,
   "metadata": {
    "collapsed": false
   },
   "outputs": [
    {
     "data": {
      "image/png": "[encoded data removed]",
      "text/plain": [
       "<matplotlib.figure.Figure at 0xfecfe3b828>"
      ]
     },
     "metadata": {},
     "output_type": "display_data"
    },
    {
     "name": "stdout",
     "output_type": "stream",
     "text": [
      "QR solution:  [15.622934975637049, -13.417960895857021, -5.0524514409202119, 9.8901908572182524, 0.14506667993733546]\n",
      "Reference solution:  [ 15.62293436+0.j         -13.41796028+0.j           2.41886971+7.40070169j\n",
      "   2.41886971-7.40070169j   0.14506668+0.j        ]\n"
     ]
    }
   ],
   "source": [
    "qr_f, _ = transform_Hessenberg(qr_noise1)\n",
    "qr(qr_f, 100, callback = monitor_error)\n",
    "\n",
    "show_graph(\"QR noise 1\")\n",
    "clear_history()\n",
    "\n",
    "print(\"QR solution: \", diagonals(qr_f))\n",
    "print(\"Reference solution: \", np.linalg.eig(qr_noise1)[0])"
   ]
  },
  {
   "cell_type": "markdown",
   "metadata": {},
   "source": [
    "##### Second, the huge noise is applied. Here the peaks are more frequent in the convergence graph."
   ]
  },
  {
   "cell_type": "code",
   "execution_count": 20,
   "metadata": {
    "collapsed": false
   },
   "outputs": [
    {
     "data": {
      "image/png": "[encoded data removed]",
      "text/plain": [
       "<matplotlib.figure.Figure at 0xfecfe71240>"
      ]
     },
     "metadata": {},
     "output_type": "display_data"
    },
    {
     "name": "stdout",
     "output_type": "stream",
     "text": [
      "QR solution:  [-35.304121145181327, 23.84287851857826, -2.4514772214322775, -21.911302867993491, -6.8863300318532099]\n",
      "Reference solution:  [ 10.69580584+21.56169087j  10.69580584-21.56169087j -35.30412115 +0.j\n",
      "  -6.88633003 +0.j         -21.91151326 +0.j        ]\n"
     ]
    }
   ],
   "source": [
    "qr_f, _ = transform_Hessenberg(qr_noise2)\n",
    "qr(qr_f, 100, callback = monitor_error)\n",
    "\n",
    "show_graph(\"QR noise 0.1\")\n",
    "clear_history()\n",
    "\n",
    "print(\"QR solution: \", diagonals(qr_f))\n",
    "print(\"Reference solution: \", np.linalg.eig(qr_noise2)[0])"
   ]
  },
  {
   "cell_type": "markdown",
   "metadata": {},
   "source": [
    "##### Third, small noise is applied. Results are similar like in the reference case."
   ]
  },
  {
   "cell_type": "code",
   "execution_count": 21,
   "metadata": {
    "collapsed": false
   },
   "outputs": [
    {
     "data": {
      "image/png": "[encoded data removed]",
      "text/plain": [
       "<matplotlib.figure.Figure at 0xfecfed6ba8>"
      ]
     },
     "metadata": {},
     "output_type": "display_data"
    },
    {
     "name": "stdout",
     "output_type": "stream",
     "text": [
      "QR solution:  [25.554995078339488, -12.92495568462145, -3.0460445125723323, -2.2977865779190187, 1.8608675131502215]\n",
      "Reference solution:  [ 25.55499508+0.j         -12.92495568+0.j           1.86086751+0.j\n",
      "  -2.67191555+2.04483834j  -2.67191555-2.04483834j]\n"
     ]
    }
   ],
   "source": [
    "qr_f, _ = transform_Hessenberg(qr_noise3)\n",
    "qr(qr_f, 100, callback = monitor_error)\n",
    "\n",
    "show_graph(\"QR noise 10\")\n",
    "clear_history()\n",
    "\n",
    "print(\"QR solution: \", diagonals(qr_f))\n",
    "print(\"Reference solution: \", np.linalg.eig(qr_noise3)[0])"
   ]
  },
  {
   "cell_type": "markdown",
   "metadata": {},
   "source": [
    "## Conclusions"
   ]
  },
  {
   "cell_type": "markdown",
   "metadata": {},
   "source": [
    "* For this specific example the vanilla QR iteration was not able to find the eigenvalues.\n",
    "* If the transformation to Hessenberg-form was applied then the real eigenvalues were found with sufficient accuracy within a small number of iteration.\n",
    "* Shifting has not shown the expected effect. Instead it slightly made slower the convergence. The noise became smaller a bit at the middle part of the curve.\n",
    "* Huge noise cause fluctuating convergence curves. But results show the same charactereistics as the baseline regarding real and complex eigenvalues."
   ]
  },
  {
   "cell_type": "markdown",
   "metadata": {},
   "source": [
    "## Reference"
   ]
  },
  {
   "cell_type": "markdown",
   "metadata": {},
   "source": [
    "* Rózsa Pál, Lineáris algebra és alkalmazásai, 3. kiadás, 1991\n",
    "* https://docs.scipy.org/doc/numpy-1.13.0/reference/generated/numpy.linalg.eig.html (the refernce calculation of the eigenvalues was based on the numpy library corresponding function)"
   ]
  }
 ],
 "metadata": {
  "anaconda-cloud": {},
  "kernelspec": {
   "display_name": "Python [Root]",
   "language": "python",
   "name": "Python [Root]"
  },
  "language_info": {
   "codemirror_mode": {
    "name": "ipython",
    "version": 3
   },
   "file_extension": ".py",
   "mimetype": "text/x-python",
   "name": "python",
   "nbconvert_exporter": "python",
   "pygments_lexer": "ipython3",
   "version": "3.5.2"
  }
 },
 "nbformat": 4,
 "nbformat_minor": 0
}
